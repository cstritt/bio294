{
 "cells": [
  {
   "cell_type": "markdown",
   "metadata": {
    "slideshow": {
     "slide_type": "-"
    }
   },
   "source": [
    "# BIO294: bioinformatics for comparative and evolutionary genomics\n",
    "christoph.stritt@botinst.uzh.ch  \n",
    "*11 November 2020*\n",
    "\n",
    "# First steps to building your own bioinformatics toolbox with Python\n",
    "\n",
    "#### Online documentation\n",
    "https://www.python.org/doc/  \n",
    "https://biopython.org/  \n",
    "http://rosalind.info/problems/locations/\n",
    "\n",
    "\n",
    "## A simple program to explore gene trees \n",
    "### Phytochrome A\n",
    "\n",
    "![Gene tree for Phytochrome B](phyA.png)"
   ]
  },
  {
   "cell_type": "markdown",
   "metadata": {},
   "source": [
    "# Preliminaries\n",
    "\n",
    "\n",
    "#### Download the course data from github to your Desktop\n",
    "\n",
    "```console\n",
    "cd ~/Desktop\n",
    "git clone https://github.com/cstritt/bio294\n",
    "\n",
    "```\n",
    "\n",
    "In the data folder you'll find a file containing protein sequences of _Brachypodium distachyon_ and some other species, downloaded from Phytozome ( https://phytozome-next.jgi.doe.gov ).\n",
    "\n",
    "Our goal is to create a tree for the Phytochrome A gene **Bradi1g10520**, showing homologous genes within _B. distachyon_ and in other plant species.\n",
    "\n",
    "Let's take a look at the input files.\n",
    "\n",
    "\n",
    "```console\n",
    "cd data/\n",
    "ls\n",
    "\n",
    "zless -S Bdistachyon_314_v3.1.protein_primaryTranscriptOnly.fa.gz\n",
    "\n",
    "# Unzip all fasta files \n",
    "gunzip *.gz\n",
    "\n",
    "# Is there some information available for the gene? \n",
    "grep Bradi1g10520 Bdistachyon_314_v3.1.defline.txt\n",
    "grep Bradi1g10520 Bdistachyon_314_v3.1.annotation_info.txt\n",
    "```\n",
    "\n",
    "#### Program outline\n",
    "**A)** Fetch fasta entry for the gene of interest  \n",
    "**B)** Blast fasta entry against a local data base  \n",
    "**C)** Extract homolog sequences and align them  \n",
    "**D)** Estimate gene tree  \n",
    "\n",
    "\n",
    "#### Exercises\n",
    "In case you are stuck, possible solutions for the exercises are given in the file dirtyTree.py."
   ]
  },
  {
   "cell_type": "markdown",
   "metadata": {},
   "source": [
    "## A) Fetch fasta entry for the gene of interest\n",
    "\n",
    "First, we want to extract the protein sequence of our focal gene and write it to a fasta file, which can then be used with blast.  \n",
    "This can be done using some bash bricolage, for example:\n",
    "\n",
    "\n",
    "```console\n",
    "sed -n -e '/Bradi5g25817/,/^>/ p' Bdistachyon_314_v3.1.protein_primaryTranscriptOnly.fa | sed -e ';$d' \n",
    "```\n",
    "\n",
    "Let's try the same with Python. \n"
   ]
  },
  {
   "cell_type": "code",
   "execution_count": null,
   "metadata": {},
   "outputs": [],
   "source": [
    "gene = 'Bradi1g10520'\n",
    "path_to_gene_space = 'data/Bdistachyon_314_v3.1.protein_primaryTranscriptOnly.fa'\n",
    "\n",
    "switch = 0\n",
    "gene_seq = ''\n",
    "with open(path_to_gene_space) as f:\n",
    "    for line in f:\n",
    "        \n",
    "        if line.startswith('>'):\n",
    "            switch = 1 if gene in line else 0\n",
    "            \n",
    "        if switch == 1:\n",
    "            gene_seq += line  \n",
    "            \n",
    "gene_seq"
   ]
  },
  {
   "cell_type": "code",
   "execution_count": null,
   "metadata": {},
   "outputs": [],
   "source": [
    "# Write to file          \n",
    "with open(gene + '.fasta', 'w') as g:\n",
    "    g.write(gene_seq)"
   ]
  },
  {
   "cell_type": "code",
   "execution_count": null,
   "metadata": {
    "scrolled": true
   },
   "outputs": [],
   "source": [
    "# The same can be done more simply with Biopython\n",
    "import sys\n",
    "from Bio import SeqIO\n",
    "\n",
    "# Display some information about the SeqIO object\n",
    "# help(SeqIO)"
   ]
  },
  {
   "cell_type": "code",
   "execution_count": null,
   "metadata": {},
   "outputs": [],
   "source": [
    "# Fetch the gene sequence\n",
    "for seq_record in SeqIO.parse(path_to_gene_space, \"fasta\"):\n",
    "    if gene in seq_record.id:\n",
    "        SeqIO.write(seq_record, sys.stdout, 'fasta')\n",
    "\n",
    "# Whats the difference between the two outputs?"
   ]
  },
  {
   "cell_type": "markdown",
   "metadata": {},
   "source": [
    "***Exercise:***  Rewrite the code above as a function, either using the approach with or without Biopython."
   ]
  },
  {
   "cell_type": "markdown",
   "metadata": {},
   "source": [
    "## B) Blast fasta entry against a local database\n",
    "\n",
    "To find homologs, we blast the gene sequence against the gene space, i.e. against the same file from which the gene was extracted. On the command line, this would be\n",
    "```console\n",
    "blastp -query Bradi5g25817.fasta -subject Bdistachyon_314_v3.1.protein_primaryTranscriptOnly.fa\n",
    "\n",
    "```\n",
    "\n",
    "The Biopython module has a blast interface which allows running blast from within Python. Results are stored in the file defined by the \"out\" parameter. "
   ]
  },
  {
   "cell_type": "code",
   "execution_count": null,
   "metadata": {
    "scrolled": true
   },
   "outputs": [],
   "source": [
    "from Bio.Blast.Applications import NcbiblastpCommandline\n",
    "\n",
    "#help(NcbiblastxCommandline)\n",
    "blast_cline = NcbiblastpCommandline(query = gene + \".fasta\", \n",
    "                                     subject = path_to_gene_space,\n",
    "                                     outfmt = '6 pident length evalue sseqid', \n",
    "                                     out = gene + \".blastout\")\n",
    "\n",
    "# Print command\n",
    "print(blast_cline)\n",
    "# Execute command\n",
    "blast_cline()"
   ]
  },
  {
   "cell_type": "markdown",
   "metadata": {},
   "source": [
    "***Exercise:*** Take a look at the output file. How many hits does it contain?"
   ]
  },
  {
   "cell_type": "markdown",
   "metadata": {},
   "source": [
    "### Digression: Blast against the NCBI online database"
   ]
  },
  {
   "cell_type": "code",
   "execution_count": null,
   "metadata": {},
   "outputs": [],
   "source": [
    "from Bio.Blast import NCBIWWW\n",
    "from Bio.Blast import NCBIXML\n",
    "  \n",
    "fasta_string = open(gene + '.fasta').read()\n",
    "result_handle = NCBIWWW.qblast(\"blastp\", \"refseq_protein\", fasta_string)\n",
    "\n",
    "blast_records = NCBIXML.parse(result_handle)\n",
    "blast_records = list(blast_records)\n",
    "\n",
    "# Can you find the homolog sequences in the blast_records list?"
   ]
  },
  {
   "cell_type": "markdown",
   "metadata": {},
   "source": [
    "## C) Extract homolog sequences and align them"
   ]
  },
  {
   "cell_type": "markdown",
   "metadata": {},
   "source": [
    "***Exercise:***  \n",
    "Filter the output of the local blast: create a list with the names of the genes with a percentage identity > 30, alignment length > 150, and an e-value < 0.0001 (Panchy et al. 2016). How 'robust' are these thresholds, i.e. how does the number of 'homologs' change when the thresholds change?"
   ]
  },
  {
   "cell_type": "code",
   "execution_count": null,
   "metadata": {},
   "outputs": [],
   "source": [
    "min_perc_id = 30\n",
    "min_aln_len = 150\n",
    "max_eval = 0.0001\n",
    "\n",
    "homologs = []\n",
    "# Continue here"
   ]
  },
  {
   "cell_type": "code",
   "execution_count": null,
   "metadata": {},
   "outputs": [],
   "source": [
    "# Extract all homolog sequences from the gene space and write them to a file\n",
    "from Bio import SeqIO\n",
    "\n",
    "recs = []\n",
    "\n",
    "for seq_record in SeqIO.parse(path_to_gene_space, \"fasta\"):\n",
    "    \n",
    "    if any(x in seq_record.id for x in homologs):    \n",
    "        recs.append(seq_record)\n",
    "\n",
    "SeqIO.write(recs, gene + \".homologs.fasta\", 'fasta')"
   ]
  },
  {
   "cell_type": "code",
   "execution_count": null,
   "metadata": {},
   "outputs": [],
   "source": [
    "\"\"\" Run the muscle aligner through the Biopython interface\n",
    "\"\"\"\n",
    "from Bio import AlignIO\n",
    "from Bio.Align.Applications import MuscleCommandline\n",
    "#help(MuscleCommandline)"
   ]
  },
  {
   "cell_type": "code",
   "execution_count": null,
   "metadata": {},
   "outputs": [],
   "source": [
    "# Define the command\n",
    "cline = MuscleCommandline(input=gene + \".homologs.fasta\", \n",
    "                          out=gene + \".homologs.aligned.fasta\")\n",
    "\n",
    "# Show the command\n",
    "print(cline)\n",
    "# Run it\n",
    "cline()\n",
    "\n",
    "# Load the alignment\n",
    "aln = AlignIO.read(gene + '.homologs.aligned.fasta', 'fasta')\n",
    "print(aln)"
   ]
  },
  {
   "cell_type": "code",
   "execution_count": null,
   "metadata": {},
   "outputs": [],
   "source": [
    "# Access information in the alignment\n",
    "print(aln[0])"
   ]
  },
  {
   "cell_type": "markdown",
   "metadata": {},
   "source": [
    "***Exercise:***  \n",
    "How many gaps are there in each aligned sequence? "
   ]
  },
  {
   "cell_type": "code",
   "execution_count": null,
   "metadata": {},
   "outputs": [],
   "source": [
    "# Trim alignment\n",
    "import strumenti\n",
    "aln_trimmed = strumenti.trim_alignment(aln, max_prop_missing=0)\n",
    "print(aln_trimmed)"
   ]
  },
  {
   "cell_type": "markdown",
   "metadata": {},
   "source": [
    "## D) Estimate gene tree\n",
    "Biopython is great for parsing phylogenetic trees and contains a neighbor-joining algorithm for estimating phylogenetic trees (https://en.wikipedia.org/wiki/Neighbor_joining)."
   ]
  },
  {
   "cell_type": "code",
   "execution_count": null,
   "metadata": {},
   "outputs": [],
   "source": [
    "import sys\n",
    "from Bio import Phylo\n",
    "\n",
    "tree = strumenti.neighbor_joining_tree(aln_trimmed, prot_model='blosum62')\n",
    "tree_out = Phylo.draw_ascii(tree, file=sys.stdout, column_width=50)"
   ]
  },
  {
   "cell_type": "markdown",
   "metadata": {},
   "source": [
    "## Exercises:\n",
    "1) Implement the code above as a program which can be run from the command line. (Hint: use the *sys* module to parse command line arguments.)\n",
    "\n",
    "\n",
    "2) Can you find an easy way to include sequences from other species in the analysis? \n",
    "\n",
    "3) Create a tree for the NBS-LRR gene Bradi1g00960, including all species in the data folder. How does its homolog tree differ from Phytochrome A? Why?  \n",
    "\n",
    "\n",
    "4) Run the program for some more genes: Bradi1g64360, Bradi1g12340, Bradi1g31280. Instead of typing each command individually in the command line, try to use a for loop and write the trees to a file.    \n",
    "\n",
    "5) Add minimum percentage identity as a parameter to the program.  "
   ]
  }
 ],
 "metadata": {
  "kernelspec": {
   "display_name": "Python 3",
   "language": "python",
   "name": "python3"
  },
  "language_info": {
   "codemirror_mode": {
    "name": "ipython",
    "version": 3
   },
   "file_extension": ".py",
   "mimetype": "text/x-python",
   "name": "python",
   "nbconvert_exporter": "python",
   "pygments_lexer": "ipython3",
   "version": "3.7.6"
  }
 },
 "nbformat": 4,
 "nbformat_minor": 4
}
